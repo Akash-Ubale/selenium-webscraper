{
 "cells": [
  {
   "cell_type": "markdown",
   "metadata": {},
   "source": [
    "Selenium is helpful specially in case of Javascript Webpages.\n",
    "\n",
    "# Steps\n",
    "1. Install Selenium - pip install selenium\n",
    "2. Download the webdriver - "
   ]
  },
  {
   "cell_type": "code",
   "execution_count": 26,
   "metadata": {},
   "outputs": [],
   "source": [
    "# !pip install selenium\n",
    "\n",
    "# Download the Web driver and get the location of the .exe file.\n",
    "path = \"D:\\Akash\\Documents\\Recover\\MY NOTES\\web scraping\\chromedriver_win32\\chromedriver.exe\"\n",
    "\n",
    "from selenium import webdriver\n",
    "\n",
    "# Setting up the driver\n",
    "options = webdriver.ChromeOptions().add_argument(\"headless\") # To avoid making multiple instance of the browser\n",
    "driver = webdriver.Chrome(executable_path=path, options = options)"
   ]
  },
  {
   "cell_type": "code",
   "execution_count": 6,
   "metadata": {},
   "outputs": [],
   "source": [
    "# Opening the website in the browser.\n",
    "webdriver.Chrome(path).get(\"http://akashubale.com\")  "
   ]
  },
  {
   "cell_type": "code",
   "execution_count": 7,
   "metadata": {},
   "outputs": [],
   "source": [
    "# Closing the browser tab\n",
    "webdriver.Chrome(path).close() "
   ]
  },
  {
   "cell_type": "code",
   "execution_count": 9,
   "metadata": {},
   "outputs": [],
   "source": [
    "# Quit the Entrire Browser Window.\n",
    "webdriver.Chrome(path).quit()"
   ]
  },
  {
   "cell_type": "code",
   "execution_count": 10,
   "metadata": {},
   "outputs": [
    {
     "name": "stdout",
     "output_type": "stream",
     "text": [
      "\n"
     ]
    }
   ],
   "source": [
    "webdriver.Chrome(path).get(\"http://akashubale.com\")\n",
    "\n",
    "# Print the website tile\n",
    "print(webdriver.Chrome(path).title)"
   ]
  },
  {
   "cell_type": "code",
   "execution_count": 27,
   "metadata": {},
   "outputs": [],
   "source": [
    "webdriver.Chrome(path).get(\"https://techwithtim.net\")\n",
    "\n",
    "\n",
    "#webdriver.Chrome(path)."
   ]
  },
  {
   "cell_type": "code",
   "execution_count": 29,
   "metadata": {},
   "outputs": [
    {
     "data": {
      "text/plain": [
       "<selenium.webdriver.chrome.options.Options at 0x1b815181088>"
      ]
     },
     "execution_count": 29,
     "metadata": {},
     "output_type": "execute_result"
    }
   ],
   "source": [
    "webdriver.ChromeOptions()"
   ]
  },
  {
   "cell_type": "code",
   "execution_count": null,
   "metadata": {},
   "outputs": [],
   "source": []
  }
 ],
 "metadata": {
  "kernelspec": {
   "display_name": "Python 3",
   "language": "python",
   "name": "python3"
  },
  "language_info": {
   "codemirror_mode": {
    "name": "ipython",
    "version": 3
   },
   "file_extension": ".py",
   "mimetype": "text/x-python",
   "name": "python",
   "nbconvert_exporter": "python",
   "pygments_lexer": "ipython3",
   "version": "3.7.9"
  }
 },
 "nbformat": 4,
 "nbformat_minor": 4
}
