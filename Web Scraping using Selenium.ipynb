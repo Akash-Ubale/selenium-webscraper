{
 "cells": [
  {
   "cell_type": "markdown",
   "metadata": {},
   "source": [
    "Selenium is helpful specially in case of Javascript Webpages.\n",
    "\n",
    "# Steps\n",
    "1. Install Selenium - pip install selenium\n",
    "2. Download the webdriver - "
   ]
  },
  {
   "cell_type": "code",
   "execution_count": 32,
   "metadata": {},
   "outputs": [],
   "source": [
    "# !pip install selenium\n",
    "\n",
    "# Download the Web driver and get the location of the .exe file.\n",
    "path = \"D:\\Akash\\Documents\\Recover\\MY NOTES\\web scraping\\chromedriver_win32\\chromedriver.exe\"\n",
    "\n",
    "from selenium import webdriver\n",
    "import time\n",
    "import pandas as pd\n",
    "\n",
    "# Setting up the driver\n",
    "options = webdriver.ChromeOptions().add_argument(\"headless\") # To avoid making multiple instance of the browser\n",
    "driver = webdriver.Chrome(executable_path=path, options = options)\n",
    "\n",
    "url = \"http://techwithtim.net\"  # target URL\n",
    "\n",
    "# Opening the website in the browser.\n",
    "webdriver.Chrome(path).get(url)\n",
    "\n",
    "# Closing the browser tab\n",
    "webdriver.Chrome(path).close() \n",
    "\n",
    "time.sleep(2)\n",
    "\n",
    "# Quit the Entrire Browser Window.\n",
    "webdriver.Chrome(path).quit()"
   ]
  },
  {
   "cell_type": "code",
   "execution_count": 30,
   "metadata": {},
   "outputs": [],
   "source": [
    "# To find the elements by name, keys, Ids\n",
    "search = driver.find_element_by_name(\"s\")\n",
    "search.send_keys(Keys.RETURN)"
   ]
  },
  {
   "cell_type": "code",
   "execution_count": 9,
   "metadata": {},
   "outputs": [],
   "source": []
  }
 ],
 "metadata": {
  "kernelspec": {
   "display_name": "Python 3",
   "language": "python",
   "name": "python3"
  },
  "language_info": {
   "codemirror_mode": {
    "name": "ipython",
    "version": 3
   },
   "file_extension": ".py",
   "mimetype": "text/x-python",
   "name": "python",
   "nbconvert_exporter": "python",
   "pygments_lexer": "ipython3",
   "version": "3.7.9"
  }
 },
 "nbformat": 4,
 "nbformat_minor": 4
}
