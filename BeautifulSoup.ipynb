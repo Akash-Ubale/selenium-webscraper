{
 "cells": [
  {
   "cell_type": "code",
   "execution_count": 6,
   "metadata": {},
   "outputs": [
    {
     "name": "stdout",
     "output_type": "stream",
     "text": [
      "Requirement already satisfied: requests in c:\\users\\akash\\anaconda3\\envs\\general\\lib\\site-packages (2.24.0)\n",
      "Requirement already satisfied: idna<3,>=2.5 in c:\\users\\akash\\anaconda3\\envs\\general\\lib\\site-packages (from requests) (2.10)\n",
      "Requirement already satisfied: urllib3!=1.25.0,!=1.25.1,<1.26,>=1.21.1 in c:\\users\\akash\\anaconda3\\envs\\general\\lib\\site-packages (from requests) (1.25.11)\n",
      "Requirement already satisfied: certifi>=2017.4.17 in c:\\users\\akash\\anaconda3\\envs\\general\\lib\\site-packages (from requests) (2020.6.20)\n",
      "Requirement already satisfied: chardet<4,>=3.0.2 in c:\\users\\akash\\anaconda3\\envs\\general\\lib\\site-packages (from requests) (3.0.4)\n",
      "Collecting html5lib\n",
      "  Downloading html5lib-1.1-py2.py3-none-any.whl (112 kB)\n",
      "Requirement already satisfied: webencodings in c:\\users\\akash\\anaconda3\\envs\\general\\lib\\site-packages (from html5lib) (0.5.1)\n",
      "Requirement already satisfied: six>=1.9 in c:\\users\\akash\\anaconda3\\envs\\general\\lib\\site-packages (from html5lib) (1.15.0)\n",
      "Installing collected packages: html5lib\n",
      "Successfully installed html5lib-1.1\n",
      "Processing c:\\users\\akash\\appdata\\local\\pip\\cache\\wheels\\0a\\9e\\ba\\20e5bbc1afef3a491f0b3bb74d508f99403aabe76eda2167ca\\bs4-0.0.1-py3-none-any.whl\n",
      "Requirement already satisfied: beautifulsoup4 in c:\\users\\akash\\anaconda3\\envs\\general\\lib\\site-packages (from bs4) (4.9.3)\n",
      "Requirement already satisfied: soupsieve>1.2; python_version >= \"3.0\" in c:\\users\\akash\\anaconda3\\envs\\general\\lib\\site-packages (from beautifulsoup4->bs4) (2.2)\n",
      "Installing collected packages: bs4\n",
      "Successfully installed bs4-0.0.1\n"
     ]
    }
   ],
   "source": [
    "# Step0 : Setting up the Environment\n",
    "!pip install requests\n",
    "!pip install html5lib\n",
    "!pip install bs4"
   ]
  },
  {
   "cell_type": "markdown",
   "metadata": {},
   "source": [
    "# Following are the steps to use BeautifulSoup:\n",
    "\n",
    "1. Install and Import the required libraries - requests, html5lib, bs4. \n",
    "2. Requests - Fetch the target HTML file as a single string.\n",
    "3. Parse - Give that HTML String a treelike structure that can be traversed.\n",
    "4. Tree Traversal.\n",
    "    1. \n",
    "    "
   ]
  },
  {
   "cell_type": "code",
   "execution_count": 17,
   "metadata": {},
   "outputs": [],
   "source": [
    "\n",
    "# Step 1:\n",
    "import requests\n",
    "from bs4 import BeautifulSoup\n",
    "import html5lib"
   ]
  },
  {
   "cell_type": "code",
   "execution_count": 18,
   "metadata": {},
   "outputs": [],
   "source": [
    "# Step 2: Fetch the HTML Data.\n",
    "url = \"https://codewithharry.com/videos/\"\n",
    "r = requests.get(url)\n",
    "htmlContent = r.content"
   ]
  },
  {
   "cell_type": "code",
   "execution_count": 45,
   "metadata": {},
   "outputs": [],
   "source": [
    "# Step 3: Parse the HTML Content to give it a treelike structure.\n",
    "soup = BeautifulSoup(htmlContent, 'html.parser')\n",
    "# soup = soup.prettify"
   ]
  },
  {
   "cell_type": "code",
   "execution_count": 47,
   "metadata": {},
   "outputs": [
    {
     "name": "stdout",
     "output_type": "stream",
     "text": [
      "Name ['Python Tutorials For Absolute Beginners In Hindi', 'Java Tutorials For Beginners', 'Python Django Tutorials In Hindi', 'Data Structures and Algorithms Course in Hindi', 'Python Practice Programs With Logic & Explanation In Hindi', 'Web Development Tutorials For Beginners In Hindi: HTML, CSS, JavaScript & More', 'Android Development Tutorials In Hindi', 'C Language Tutorials In Hindi', 'PHP Tutorials in Hindi', 'C++ Tutorials In Hindi', 'Python Game Development Using Pygame In Hindi', 'Web Development Using Flask and Python', 'Intermediate python Tutorials in Hindi', 'Coding Discussion With Harry', 'Object Oriented Programming Using Python Programming', 'General Python Errors In Hindi', 'Creating a Realtime PHP Chatroom Using PHP & Jquery', 'Learn In One Video', 'Git and GitHub Tutorials For Beginners In Hindi', 'Python Data Science and Big Data Tutorials In Hindi', 'Basic Python Programs With Code', 'Machine Learning Tutorials For Beginners Using Python In Hindi', 'Python GUI Tkinter Tutorials In Hindi', 'JavaScript Tutorials In Hindi', 'Complete Git Tutorials For Beginners In Hindi', 'C Language Practice Programs']\n",
      "Description ['\\n                    In this series, we will learn about Python Tutorials For Absolute Beginners In Hindi\\n                ', '\\n                    In this series, we will learn about This series will cover Java from starting to the end. We will learn java from the start to the end\\n                ', '\\n                    In this series, we will learn about Python Django Tutorials In Hindi\\n                ', '\\n                    In this series, we will learn about Data Structures and algorithms course\\n                ', '\\n                    In this series, we will learn about Python Practice Programs With Logic & Explanation In Hindi\\n                ', '\\n                    In this series, we will learn about Web Development Tutorials For Beginners In Hindi: HTML, CSS, JavaScript & More\\n                ', '\\n                    In this series, we will learn about Learn to create awesome android applications in hindi\\n                ', '\\n                    In this series, we will learn about C Language Tutorials In Hindi\\n                ', '\\n                    In this series, we will learn about PHP Tutorials in Hindi\\n                ', '\\n                    In this series, we will learn about C++ Tutorials In Hindi\\n                ', '\\n                    In this series, we will learn about Python Game Development Using Pygame In Hindi\\n                ', '\\n                    In this series, we will learn about Web Development Using Flask and Python\\n                ', '\\n                    In this series, we will learn about Intermediate/Advanced python Tutorials in Hindi\\n                ', '\\n                    In this series, we will learn about Coding Discussion With Harry\\n                ', '\\n                    In this series, we will learn about Object Oriented Programming Using Python Programming\\n                ', '\\n                    In this series, we will learn about General Python Errors In Hindi\\n                ', '\\n                    In this series, we will learn about Creating a Realtime PHP Chatroom Using PHP & Jquery\\n                ', '\\n                    In this series, we will learn about Learn In One Video\\n                ', '\\n                    In this series, we will learn about Git and GitHub Tutorials For Beginners In Hindi\\n                ', '\\n                    In this series, we will learn about Python Data Science and Big Data Tutorials In Hindi\\n                ', '\\n                    In this series, we will learn about Basic Python Programs With Code\\n                ', '\\n                    In this series, we will learn about Machine Learning Tutorials For Beginners Using Python In Hindi\\n                ', '\\n                    In this series, we will learn about Python GUI Tkinter Tutorials In Hindi\\n                ', '\\n                    In this series, we will learn about JavaScript Tutorials In Hindi\\n                ', '\\n                    In this series, we will learn about Complete Git Tutorials For Beginners In Hindi\\n                ', '\\n                    In this series, we will learn about This series contains programs for you to practice C Programming and related concepts\\n                ']\n"
     ]
    }
   ],
   "source": [
    "# Step 4: Tree Traversal\n",
    "# soup.find_all(), we can traverse using the various tags and their attributes.\n",
    "cards = soup.find_all('div', class_=\"col-md-6 col-lg-4 text-center\")\n",
    "card_names = []\n",
    "card_description = []\n",
    "\n",
    "for card in cards:\n",
    "    card_names.append(card.h2.text)\n",
    "    card_description.append(card.p.text)\n",
    "\n",
    "print(\"Name\",card_names)\n",
    "print(\"Description\",card_description)\n",
    "i+=1\n",
    "    \n",
    "# "
   ]
  },
  {
   "cell_type": "code",
   "execution_count": 50,
   "metadata": {},
   "outputs": [
    {
     "ename": "TypeError",
     "evalue": "'bytes' object is not callable",
     "output_type": "error",
     "traceback": [
      "\u001b[1;31m---------------------------------------------------------------------------\u001b[0m",
      "\u001b[1;31mTypeError\u001b[0m                                 Traceback (most recent call last)",
      "\u001b[1;32m<ipython-input-50-b4c4cedf2367>\u001b[0m in \u001b[0;36m<module>\u001b[1;34m\u001b[0m\n\u001b[0;32m      1\u001b[0m \u001b[0murl\u001b[0m \u001b[1;33m=\u001b[0m \u001b[1;34m\"https://www.glassdoor.co.in/Job/mumbai-data-science-jobs-SRCH_IL.0,6_IC2851180_KO7,19.htm\"\u001b[0m\u001b[1;33m\u001b[0m\u001b[1;33m\u001b[0m\u001b[0m\n\u001b[0;32m      2\u001b[0m \u001b[0mr\u001b[0m \u001b[1;33m=\u001b[0m \u001b[0mrequests\u001b[0m\u001b[1;33m.\u001b[0m\u001b[0mget\u001b[0m\u001b[1;33m(\u001b[0m\u001b[0murl\u001b[0m\u001b[1;33m)\u001b[0m\u001b[1;33m\u001b[0m\u001b[1;33m\u001b[0m\u001b[0m\n\u001b[1;32m----> 3\u001b[1;33m \u001b[0mhtml_content\u001b[0m \u001b[1;33m=\u001b[0m \u001b[0mr\u001b[0m\u001b[1;33m.\u001b[0m\u001b[0mcontent\u001b[0m\u001b[1;33m(\u001b[0m\u001b[1;33m)\u001b[0m\u001b[1;33m\u001b[0m\u001b[1;33m\u001b[0m\u001b[0m\n\u001b[0m\u001b[0;32m      4\u001b[0m \u001b[0msoup\u001b[0m \u001b[1;33m=\u001b[0m \u001b[0mBeautifulSoup\u001b[0m\u001b[1;33m(\u001b[0m\u001b[0mhtml_content\u001b[0m\u001b[1;33m,\u001b[0m \u001b[1;34m'html.parser'\u001b[0m\u001b[1;33m)\u001b[0m\u001b[1;33m\u001b[0m\u001b[1;33m\u001b[0m\u001b[0m\n",
      "\u001b[1;31mTypeError\u001b[0m: 'bytes' object is not callable"
     ]
    }
   ],
   "source": [
    "url = \"https://www.glassdoor.co.in/Job/mumbai-data-science-jobs-SRCH_IL.0,6_IC2851180_KO7,19.htm\"\n",
    "r = requests.get(url)\n",
    "html_content = r.content()\n",
    "soup = BeautifulSoup(html_content, 'html.parser')"
   ]
  },
  {
   "cell_type": "code",
   "execution_count": 51,
   "metadata": {},
   "outputs": [
    {
     "data": {
      "text/plain": [
       "<Response [403]>"
      ]
     },
     "execution_count": 51,
     "metadata": {},
     "output_type": "execute_result"
    }
   ],
   "source": [
    "r"
   ]
  },
  {
   "cell_type": "code",
   "execution_count": null,
   "metadata": {},
   "outputs": [],
   "source": []
  }
 ],
 "metadata": {
  "kernelspec": {
   "display_name": "Python 3",
   "language": "python",
   "name": "python3"
  },
  "language_info": {
   "codemirror_mode": {
    "name": "ipython",
    "version": 3
   },
   "file_extension": ".py",
   "mimetype": "text/x-python",
   "name": "python",
   "nbconvert_exporter": "python",
   "pygments_lexer": "ipython3",
   "version": "3.7.9"
  }
 },
 "nbformat": 4,
 "nbformat_minor": 4
}
